{
  "nbformat": 4,
  "nbformat_minor": 0,
  "metadata": {
    "colab": {
      "provenance": [],
      "collapsed_sections": [
        "i38qZPSHmDVs"
      ],
      "include_colab_link": true
    },
    "kernelspec": {
      "name": "python3",
      "display_name": "Python 3"
    },
    "language_info": {
      "name": "python"
    }
  },
  "cells": [
    {
      "cell_type": "markdown",
      "metadata": {
        "id": "view-in-github",
        "colab_type": "text"
      },
      "source": [
        "<a href=\"https://colab.research.google.com/github/Harrybo68/IA-TP-FAWAZ/blob/main/IA_IntroRL_ENSISA_2A_TD1_Prbl2.ipynb\" target=\"_parent\"><img src=\"https://colab.research.google.com/assets/colab-badge.svg\" alt=\"Open In Colab\"/></a>"
      ]
    },
    {
      "cell_type": "markdown",
      "source": [
        "\n",
        "\n",
        "> Import libraries to use\n",
        "\n"
      ],
      "metadata": {
        "id": "JIuzZH7gj7Yu"
      }
    },
    {
      "cell_type": "code",
      "source": [
        "import numpy as np"
      ],
      "metadata": {
        "id": "1n-L9pacjmBA"
      },
      "execution_count": 11,
      "outputs": []
    },
    {
      "cell_type": "markdown",
      "source": [
        ">  # Introduction to numpy (Skip if you already are familiar)"
      ],
      "metadata": {
        "id": "i38qZPSHmDVs"
      }
    },
    {
      "cell_type": "markdown",
      "source": [
        ">> Creating a 1D array"
      ],
      "metadata": {
        "id": "-wFkLk1kmeIn"
      }
    },
    {
      "cell_type": "code",
      "source": [
        "a = np.array([1,2,3,4])\n",
        "print(a)"
      ],
      "metadata": {
        "colab": {
          "base_uri": "https://localhost:8080/"
        },
        "id": "E-o1XD0Qmgxk",
        "outputId": "d5e1bb74-42be-449c-e57a-8e389c3368ef"
      },
      "execution_count": null,
      "outputs": [
        {
          "output_type": "stream",
          "name": "stdout",
          "text": [
            "[1 2 3 4]\n"
          ]
        }
      ]
    },
    {
      "cell_type": "markdown",
      "source": [
        ">> Creating a 2D array\n"
      ],
      "metadata": {
        "id": "DWh4Q90Gmh32"
      }
    },
    {
      "cell_type": "code",
      "source": [
        "a = np.array([[1,2],[3,4]])\n",
        "print(a)"
      ],
      "metadata": {
        "colab": {
          "base_uri": "https://localhost:8080/"
        },
        "id": "mOS0jF1AmjTX",
        "outputId": "98649d5d-6738-499b-e907-bbcf7fe7a48f"
      },
      "execution_count": null,
      "outputs": [
        {
          "output_type": "stream",
          "name": "stdout",
          "text": [
            "[[1 2]\n",
            " [3 4]]\n"
          ]
        }
      ]
    },
    {
      "cell_type": "markdown",
      "source": [
        ">> Creating an array full of zeros\n"
      ],
      "metadata": {
        "id": "4Z_7BfvcmoPA"
      }
    },
    {
      "cell_type": "code",
      "source": [
        "a = np.zeros(shape=(10))\n",
        "print(a)\n",
        "a = np.zeros(shape=(5,2))\n",
        "print(a)"
      ],
      "metadata": {
        "colab": {
          "base_uri": "https://localhost:8080/"
        },
        "id": "KdGvmJ7gmFrF",
        "outputId": "96c1389b-8ff8-492b-9575-df4a3c38c711"
      },
      "execution_count": null,
      "outputs": [
        {
          "output_type": "stream",
          "name": "stdout",
          "text": [
            "[0. 0. 0. 0. 0. 0. 0. 0. 0. 0.]\n",
            "[[0. 0.]\n",
            " [0. 0.]\n",
            " [0. 0.]\n",
            " [0. 0.]\n",
            " [0. 0.]]\n"
          ]
        }
      ]
    },
    {
      "cell_type": "markdown",
      "source": [
        ">> Infinity in numpy"
      ],
      "metadata": {
        "id": "kV2byWmWmr9g"
      }
    },
    {
      "cell_type": "code",
      "source": [
        "print(np.inf)"
      ],
      "metadata": {
        "colab": {
          "base_uri": "https://localhost:8080/"
        },
        "id": "9SMPoECVmygc",
        "outputId": "5ceafdaf-3f4d-4c98-e084-5b0409b5f127"
      },
      "execution_count": null,
      "outputs": [
        {
          "output_type": "stream",
          "name": "stdout",
          "text": [
            "inf\n"
          ]
        }
      ]
    },
    {
      "cell_type": "markdown",
      "source": [
        ">> Max and Argmax"
      ],
      "metadata": {
        "id": "FCi8vs49mz44"
      }
    },
    {
      "cell_type": "code",
      "source": [
        "a = np.array([2,1,4,3])\n",
        "print(np.max(a))\n",
        "print(np.argmax(a))"
      ],
      "metadata": {
        "colab": {
          "base_uri": "https://localhost:8080/"
        },
        "id": "Ailb-V76nSqc",
        "outputId": "69c91264-9121-434c-8a96-a258748ad558"
      },
      "execution_count": null,
      "outputs": [
        {
          "output_type": "stream",
          "name": "stdout",
          "text": [
            "4\n",
            "2\n"
          ]
        }
      ]
    },
    {
      "cell_type": "markdown",
      "source": [
        ">> From list to Numpy"
      ],
      "metadata": {
        "id": "6XpkQzTfnXMU"
      }
    },
    {
      "cell_type": "code",
      "source": [
        "l = [1,2,3,4]\n",
        "print(l)\n",
        "print(np.asarray(l))"
      ],
      "metadata": {
        "colab": {
          "base_uri": "https://localhost:8080/"
        },
        "id": "3wdFdBaOncQI",
        "outputId": "0a5aa25a-5bee-4443-adaf-87bbcf0c1216"
      },
      "execution_count": null,
      "outputs": [
        {
          "output_type": "stream",
          "name": "stdout",
          "text": [
            "[1, 2, 3, 4]\n",
            "[1 2 3 4]\n"
          ]
        }
      ]
    },
    {
      "cell_type": "markdown",
      "source": [
        ">> Random in numpy"
      ],
      "metadata": {
        "id": "PgNawY2LngKt"
      }
    },
    {
      "cell_type": "code",
      "source": [
        "# Array of Random integers ranging from 1 to 10 (with any size you want)\n",
        "a = np.random.randint(low=1, high=10, size=(5,2))\n",
        "print(a)\n",
        "\n",
        "# Array of random elements of a list with any size you want\n",
        "a = np.random.choice([0,1,2], size=(2,))"
      ],
      "metadata": {
        "colab": {
          "base_uri": "https://localhost:8080/"
        },
        "id": "tyopXlWsnjK1",
        "outputId": "80981877-04e6-4f31-ff13-933c7a2103a5"
      },
      "execution_count": null,
      "outputs": [
        {
          "output_type": "stream",
          "name": "stdout",
          "text": [
            "[[6 4]\n",
            " [1 6]\n",
            " [7 5]\n",
            " [5 9]\n",
            " [4 2]]\n"
          ]
        }
      ]
    },
    {
      "cell_type": "markdown",
      "source": [
        ">> Shapes in numpy"
      ],
      "metadata": {
        "id": "abjqoNDSoAD6"
      }
    },
    {
      "cell_type": "code",
      "source": [
        "a = np.random.randint(low=1, high=5, size=(4,2))\n",
        "print(a.shape)\n",
        "print(a)\n",
        "\n",
        "# Reshape a to a vector of shape = (8,1)\n",
        "a = a.reshape((8,1))\n",
        "print(a.shape)\n",
        "print(a)"
      ],
      "metadata": {
        "colab": {
          "base_uri": "https://localhost:8080/"
        },
        "id": "vN2gUoZEoCbE",
        "outputId": "bb7cb91f-7983-4bc9-d9a2-60f27017986a"
      },
      "execution_count": null,
      "outputs": [
        {
          "output_type": "stream",
          "name": "stdout",
          "text": [
            "(4, 2)\n",
            "[[4 3]\n",
            " [3 2]\n",
            " [2 3]\n",
            " [2 2]]\n",
            "(8, 1)\n",
            "[[4]\n",
            " [3]\n",
            " [3]\n",
            " [2]\n",
            " [2]\n",
            " [3]\n",
            " [2]\n",
            " [2]]\n"
          ]
        }
      ]
    },
    {
      "cell_type": "markdown",
      "source": [
        "# Pre-defined utilities"
      ],
      "metadata": {
        "id": "ekYrPhAGkAfM"
      }
    },
    {
      "cell_type": "code",
      "source": [
        "\n",
        "int_to_char = {\n",
        "    0 : 'u',\n",
        "    1 : 'r',\n",
        "    2 : 'd',\n",
        "    3 : 'l'\n",
        "}\n",
        "\n",
        "policy_one_step_look_ahead = {\n",
        "    0 : [-1,0],\n",
        "    1 : [0,1],\n",
        "    2 : [1,0],\n",
        "    3 : [0,-1]\n",
        "}\n",
        "\n",
        "def policy_int_to_char(pi, n):\n",
        "    int_to_char = {\n",
        "        0: '←',  # Left\n",
        "        1: '↓',  # Down\n",
        "        2: '→',  # Right\n",
        "        3: '↑'   # Up\n",
        "    }\n",
        "\n",
        "    pi_char = []\n",
        "    for i in range(n):\n",
        "        for j in range(n):\n",
        "            if (i, j) == (0, 0) or (i, j) == (n - 1, n - 1):\n",
        "                pi_char.append(' ')  # Represent terminal states with a space\n",
        "                continue\n",
        "\n",
        "            # Find the action with probability 1 (assuming deterministic policy)\n",
        "            action = np.argmax(pi[i, j])\n",
        "\n",
        "            # Use the action index to get the corresponding character\n",
        "            pi_char.append(int_to_char[action])\n",
        "\n",
        "        pi_char.append('\\n')  # Add a newline character at the end of each row\n",
        "\n",
        "    return ''.join(pi_char)"
      ],
      "metadata": {
        "id": "3kXEezQ_jnoP"
      },
      "execution_count": 15,
      "outputs": []
    },
    {
      "cell_type": "markdown",
      "source": [
        "# 1- Policy evaluation"
      ],
      "metadata": {
        "id": "3zlRobQekELk"
      }
    },
    {
      "cell_type": "code",
      "source": [
        "def policy_evaluation(n, pi, v, Gamma, threshhold):\n",
        "    reward = -1\n",
        "\n",
        "    while True:\n",
        "        delta = 0\n",
        "\n",
        "        for i in range(n):\n",
        "            for j in range(n):\n",
        "                if (i, j) == (0, 0) or (i, j) == (n-1, n-1):\n",
        "                    continue  # Skip terminal states\n",
        "\n",
        "                v_old = v[i, j]\n",
        "                v_new = 0\n",
        "\n",
        "                for action in range(4):\n",
        "                    i_prime = i + policy_one_step_look_ahead[action][0]\n",
        "                    j_prime = j + policy_one_step_look_ahead[action][1]\n",
        "\n",
        "                    if not (0 <= i_prime < n and 0 <= j_prime < n):\n",
        "                        i_prime, j_prime = i, j\n",
        "\n",
        "                    v_new += pi[i, j, action] * (reward + Gamma * v[i_prime, j_prime])\n",
        "                v[i, j] = v_new\n",
        "                delta = max(delta, abs(v_old - v_new))\n",
        "        if delta < threshhold:\n",
        "            break\n",
        "\n",
        "    return v"
      ],
      "metadata": {
        "id": "N7_2lpTAkHAJ"
      },
      "execution_count": 31,
      "outputs": []
    },
    {
      "cell_type": "markdown",
      "source": [
        "# 2- Policy improvement"
      ],
      "metadata": {
        "id": "id0Re9bnkWRP"
      }
    },
    {
      "cell_type": "code",
      "source": [
        "def policy_improvement(n, pi, v, Gamma):\n",
        "    new_pi = np.zeros((n, n, 4))\n",
        "    reward = -1\n",
        "    policy_stable = True\n",
        "\n",
        "    for i in range(n):\n",
        "        for j in range(n):\n",
        "            if (i, j) == (0, 0) or (i, j) == (n-1, n-1):\n",
        "                continue\n",
        "\n",
        "            q_values = np.zeros(4)\n",
        "            for action in range(4):\n",
        "                i_prime = i + policy_one_step_look_ahead[action][0]\n",
        "                j_prime = j + policy_one_step_look_ahead[action][1]\n",
        "\n",
        "                if i_prime < 0 or i_prime >= n or j_prime < 0 or j_prime >= n:\n",
        "                    i_prime, j_prime = i, j\n",
        "\n",
        "                q_values[action] = reward + Gamma * v[i_prime, j_prime]\n",
        "\n",
        "            max_q = np.max(q_values)\n",
        "            best_actions = [action for action in range(4) if q_values[action] == max_q]\n",
        "\n",
        "            for action in range(4):\n",
        "                if action in best_actions:\n",
        "                    new_pi[i, j, action] = 1 / len(best_actions)\n",
        "                else:\n",
        "                    new_pi[i, j, action] = 0\n",
        "\n",
        "            if not np.array_equal(new_pi[i, j], pi[i, j]):\n",
        "                policy_stable = False\n",
        "\n",
        "    return new_pi, policy_stable"
      ],
      "metadata": {
        "id": "eC8zswV7kZPF"
      },
      "execution_count": 30,
      "outputs": []
    },
    {
      "cell_type": "markdown",
      "source": [
        "# 3- Policy Initialization"
      ],
      "metadata": {
        "id": "1rJLFmZYk0I1"
      }
    },
    {
      "cell_type": "code",
      "source": [
        "def policy_initialization(n):\n",
        "  pi = np.zeros((n, n, len(policy_one_step_look_ahead)))\n",
        "\n",
        "  for i in range(n):\n",
        "      for j in range(n):\n",
        "          if (i, j) == (0, 0) or (i, j) == (n-1, n-1):\n",
        "              pi[i, j] = [0, 0, 0, 0]\n",
        "          else:\n",
        "              random_action = np.random.choice(len(policy_one_step_look_ahead))\n",
        "              pi[i, j, random_action] = 1\n",
        "\n",
        "  return pi"
      ],
      "metadata": {
        "id": "xpuOHJeIk2K_"
      },
      "execution_count": 23,
      "outputs": []
    },
    {
      "cell_type": "markdown",
      "source": [
        "# 4- Policy Iteration algorithm"
      ],
      "metadata": {
        "id": "rfeVN5fQlBt8"
      }
    },
    {
      "cell_type": "code",
      "source": [
        "def policy_iteration(n,Gamma,threshhold):\n",
        "\n",
        "    pi = policy_initialization(n=n)\n",
        "\n",
        "    v = np.zeros(shape=(n,n))\n",
        "\n",
        "    while True:\n",
        "\n",
        "        v = policy_evaluation(n=n,v=v,pi=pi,threshhold=threshhold,Gamma=Gamma)\n",
        "\n",
        "        pi , pi_stable = policy_improvement(n=n,pi=pi,v=v,Gamma=Gamma)\n",
        "\n",
        "        if pi_stable:\n",
        "\n",
        "            break\n",
        "\n",
        "    return pi , v"
      ],
      "metadata": {
        "id": "g7hnjz0PlFD4"
      },
      "execution_count": 8,
      "outputs": []
    },
    {
      "cell_type": "markdown",
      "source": [
        "# Main Code to Test"
      ],
      "metadata": {
        "id": "8FvleqV5onq9"
      }
    },
    {
      "cell_type": "code",
      "execution_count": 32,
      "metadata": {
        "id": "hntGpzW-jZk3",
        "colab": {
          "base_uri": "https://localhost:8080/",
          "height": 887
        },
        "outputId": "c4f58b63-db5a-442b-ec80-96516916eb14"
      },
      "outputs": [
        {
          "output_type": "stream",
          "name": "stdout",
          "text": [
            "\n",
            "Gamma =  0.8\n",
            "\n",
            " ↑↑→\n",
            "←←←→\n",
            "←←↓→\n",
            "←↓↓ \n",
            "\n",
            "\n",
            "\n",
            "[[ 0.   -1.   -1.8  -2.44]\n",
            " [-1.   -1.8  -2.44 -1.8 ]\n",
            " [-1.8  -2.44 -1.8  -1.  ]\n",
            " [-2.44 -1.8  -1.    0.  ]]\n",
            "\n",
            "Gamma =  0.9\n",
            "\n",
            " ↑↑→\n",
            "←←←→\n",
            "←←↓→\n",
            "←↓↓ \n",
            "\n",
            "\n",
            "\n",
            "[[ 0.   -1.   -1.9  -2.71]\n",
            " [-1.   -1.9  -2.71 -1.9 ]\n",
            " [-1.9  -2.71 -1.9  -1.  ]\n",
            " [-2.71 -1.9  -1.    0.  ]]\n"
          ]
        },
        {
          "output_type": "error",
          "ename": "KeyboardInterrupt",
          "evalue": "",
          "traceback": [
            "\u001b[0;31m---------------------------------------------------------------------------\u001b[0m",
            "\u001b[0;31mKeyboardInterrupt\u001b[0m                         Traceback (most recent call last)",
            "\u001b[0;32m<ipython-input-32-5242dfcb68ef>\u001b[0m in \u001b[0;36m<cell line: 7>\u001b[0;34m()\u001b[0m\n\u001b[1;32m      7\u001b[0m \u001b[0;32mfor\u001b[0m \u001b[0m_gamma\u001b[0m \u001b[0;32min\u001b[0m \u001b[0mGamma\u001b[0m\u001b[0;34m:\u001b[0m\u001b[0;34m\u001b[0m\u001b[0;34m\u001b[0m\u001b[0m\n\u001b[1;32m      8\u001b[0m \u001b[0;34m\u001b[0m\u001b[0m\n\u001b[0;32m----> 9\u001b[0;31m     \u001b[0mpi\u001b[0m \u001b[0;34m,\u001b[0m \u001b[0mv\u001b[0m \u001b[0;34m=\u001b[0m \u001b[0mpolicy_iteration\u001b[0m\u001b[0;34m(\u001b[0m\u001b[0mn\u001b[0m\u001b[0;34m=\u001b[0m\u001b[0mn\u001b[0m\u001b[0;34m,\u001b[0m\u001b[0mGamma\u001b[0m\u001b[0;34m=\u001b[0m\u001b[0m_gamma\u001b[0m\u001b[0;34m,\u001b[0m\u001b[0mthreshhold\u001b[0m\u001b[0;34m=\u001b[0m\u001b[0mthreshhold\u001b[0m\u001b[0;34m)\u001b[0m\u001b[0;34m\u001b[0m\u001b[0;34m\u001b[0m\u001b[0m\n\u001b[0m\u001b[1;32m     10\u001b[0m \u001b[0;34m\u001b[0m\u001b[0m\n\u001b[1;32m     11\u001b[0m     \u001b[0mpi_char\u001b[0m \u001b[0;34m=\u001b[0m \u001b[0mpolicy_int_to_char\u001b[0m\u001b[0;34m(\u001b[0m\u001b[0mn\u001b[0m\u001b[0;34m=\u001b[0m\u001b[0mn\u001b[0m\u001b[0;34m,\u001b[0m\u001b[0mpi\u001b[0m\u001b[0;34m=\u001b[0m\u001b[0mpi\u001b[0m\u001b[0;34m)\u001b[0m\u001b[0;34m\u001b[0m\u001b[0;34m\u001b[0m\u001b[0m\n",
            "\u001b[0;32m<ipython-input-8-98eaa5808211>\u001b[0m in \u001b[0;36mpolicy_iteration\u001b[0;34m(n, Gamma, threshhold)\u001b[0m\n\u001b[1;32m      7\u001b[0m     \u001b[0;32mwhile\u001b[0m \u001b[0;32mTrue\u001b[0m\u001b[0;34m:\u001b[0m\u001b[0;34m\u001b[0m\u001b[0;34m\u001b[0m\u001b[0m\n\u001b[1;32m      8\u001b[0m \u001b[0;34m\u001b[0m\u001b[0m\n\u001b[0;32m----> 9\u001b[0;31m         \u001b[0mv\u001b[0m \u001b[0;34m=\u001b[0m \u001b[0mpolicy_evaluation\u001b[0m\u001b[0;34m(\u001b[0m\u001b[0mn\u001b[0m\u001b[0;34m=\u001b[0m\u001b[0mn\u001b[0m\u001b[0;34m,\u001b[0m\u001b[0mv\u001b[0m\u001b[0;34m=\u001b[0m\u001b[0mv\u001b[0m\u001b[0;34m,\u001b[0m\u001b[0mpi\u001b[0m\u001b[0;34m=\u001b[0m\u001b[0mpi\u001b[0m\u001b[0;34m,\u001b[0m\u001b[0mthreshhold\u001b[0m\u001b[0;34m=\u001b[0m\u001b[0mthreshhold\u001b[0m\u001b[0;34m,\u001b[0m\u001b[0mGamma\u001b[0m\u001b[0;34m=\u001b[0m\u001b[0mGamma\u001b[0m\u001b[0;34m)\u001b[0m\u001b[0;34m\u001b[0m\u001b[0;34m\u001b[0m\u001b[0m\n\u001b[0m\u001b[1;32m     10\u001b[0m \u001b[0;34m\u001b[0m\u001b[0m\n\u001b[1;32m     11\u001b[0m         \u001b[0mpi\u001b[0m \u001b[0;34m,\u001b[0m \u001b[0mpi_stable\u001b[0m \u001b[0;34m=\u001b[0m \u001b[0mpolicy_improvement\u001b[0m\u001b[0;34m(\u001b[0m\u001b[0mn\u001b[0m\u001b[0;34m=\u001b[0m\u001b[0mn\u001b[0m\u001b[0;34m,\u001b[0m\u001b[0mpi\u001b[0m\u001b[0;34m=\u001b[0m\u001b[0mpi\u001b[0m\u001b[0;34m,\u001b[0m\u001b[0mv\u001b[0m\u001b[0;34m=\u001b[0m\u001b[0mv\u001b[0m\u001b[0;34m,\u001b[0m\u001b[0mGamma\u001b[0m\u001b[0;34m=\u001b[0m\u001b[0mGamma\u001b[0m\u001b[0;34m)\u001b[0m\u001b[0;34m\u001b[0m\u001b[0;34m\u001b[0m\u001b[0m\n",
            "\u001b[0;32m<ipython-input-31-96b4eee2e587>\u001b[0m in \u001b[0;36mpolicy_evaluation\u001b[0;34m(n, pi, v, Gamma, threshhold)\u001b[0m\n\u001b[1;32m     20\u001b[0m                         \u001b[0mi_prime\u001b[0m\u001b[0;34m,\u001b[0m \u001b[0mj_prime\u001b[0m \u001b[0;34m=\u001b[0m \u001b[0mi\u001b[0m\u001b[0;34m,\u001b[0m \u001b[0mj\u001b[0m\u001b[0;34m\u001b[0m\u001b[0;34m\u001b[0m\u001b[0m\n\u001b[1;32m     21\u001b[0m \u001b[0;34m\u001b[0m\u001b[0m\n\u001b[0;32m---> 22\u001b[0;31m                     \u001b[0mv_new\u001b[0m \u001b[0;34m+=\u001b[0m \u001b[0mpi\u001b[0m\u001b[0;34m[\u001b[0m\u001b[0mi\u001b[0m\u001b[0;34m,\u001b[0m \u001b[0mj\u001b[0m\u001b[0;34m,\u001b[0m \u001b[0maction\u001b[0m\u001b[0;34m]\u001b[0m \u001b[0;34m*\u001b[0m \u001b[0;34m(\u001b[0m\u001b[0mreward\u001b[0m \u001b[0;34m+\u001b[0m \u001b[0mGamma\u001b[0m \u001b[0;34m*\u001b[0m \u001b[0mv\u001b[0m\u001b[0;34m[\u001b[0m\u001b[0mi_prime\u001b[0m\u001b[0;34m,\u001b[0m \u001b[0mj_prime\u001b[0m\u001b[0;34m]\u001b[0m\u001b[0;34m)\u001b[0m\u001b[0;34m\u001b[0m\u001b[0;34m\u001b[0m\u001b[0m\n\u001b[0m\u001b[1;32m     23\u001b[0m                 \u001b[0mv\u001b[0m\u001b[0;34m[\u001b[0m\u001b[0mi\u001b[0m\u001b[0;34m,\u001b[0m \u001b[0mj\u001b[0m\u001b[0;34m]\u001b[0m \u001b[0;34m=\u001b[0m \u001b[0mv_new\u001b[0m\u001b[0;34m\u001b[0m\u001b[0;34m\u001b[0m\u001b[0m\n\u001b[1;32m     24\u001b[0m                 \u001b[0mdelta\u001b[0m \u001b[0;34m=\u001b[0m \u001b[0mmax\u001b[0m\u001b[0;34m(\u001b[0m\u001b[0mdelta\u001b[0m\u001b[0;34m,\u001b[0m \u001b[0mabs\u001b[0m\u001b[0;34m(\u001b[0m\u001b[0mv_old\u001b[0m \u001b[0;34m-\u001b[0m \u001b[0mv_new\u001b[0m\u001b[0;34m)\u001b[0m\u001b[0;34m)\u001b[0m\u001b[0;34m\u001b[0m\u001b[0;34m\u001b[0m\u001b[0m\n",
            "\u001b[0;31mKeyboardInterrupt\u001b[0m: "
          ]
        }
      ],
      "source": [
        "n = 4\n",
        "\n",
        "Gamma = [0.8,0.9,1]\n",
        "\n",
        "threshhold = 1e-4\n",
        "\n",
        "for _gamma in Gamma:\n",
        "\n",
        "    pi , v = policy_iteration(n=n,Gamma=_gamma,threshhold=threshhold)\n",
        "\n",
        "    pi_char = policy_int_to_char(n=n,pi=pi)\n",
        "\n",
        "    print()\n",
        "    print(\"Gamma = \",_gamma)\n",
        "\n",
        "    print()\n",
        "\n",
        "    print(pi_char)\n",
        "\n",
        "    print()\n",
        "    print()\n",
        "\n",
        "    print(v)\n"
      ]
    }
  ]
}